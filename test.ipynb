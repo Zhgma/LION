{
 "cells": [
  {
   "cell_type": "code",
   "execution_count": 15,
   "metadata": {},
   "outputs": [
    {
     "name": "stdout",
     "output_type": "stream",
     "text": [
      "SimpleModel(\n",
      "  (fc1): Linear(in_features=10, out_features=50, bias=True)\n",
      "  (relu1): ReLU()\n",
      "  (hide): Block(\n",
      "    (hide1): Linear(in_features=50, out_features=50, bias=True)\n",
      "    (relu): ReLU()\n",
      "    (hide2): Linear(in_features=50, out_features=50, bias=True)\n",
      "  )\n",
      "  (relu2): ReLU()\n",
      "  (fc2): Linear(in_features=50, out_features=1, bias=True)\n",
      ")\n"
     ]
    }
   ],
   "source": [
    "import torch\n",
    "\n",
    "import torch.nn as nn\n",
    "import torch.optim as optim\n",
    "import torch.utils.checkpoint as cp\n",
    "\n",
    "class Block(nn.Module):\n",
    "    def __init__(self):\n",
    "        super(Block, self).__init__()\n",
    "        self.hide1 = nn.Linear(50, 50)\n",
    "        self.relu = nn.ReLU()\n",
    "        self.hide2 = nn.Linear(50, 50)\n",
    "\n",
    "    def forward(self, x):\n",
    "        x = self.hide1(x)\n",
    "        x = self.relu(x)\n",
    "        x = cp.checkpoint(self.hide2, x)\n",
    "        return x\n",
    "\n",
    "# 定义一个简单的神经网络模型\n",
    "class SimpleModel(nn.Module):\n",
    "    def __init__(self):\n",
    "        super(SimpleModel, self).__init__()\n",
    "        self.fc1 = nn.Linear(10, 50)\n",
    "        self.relu1 = nn.ReLU()\n",
    "        self.hide = Block()\n",
    "        self.relu2 = nn.ReLU()\n",
    "        self.fc2 = nn.Linear(50, 1)\n",
    "\n",
    "    def forward(self, x):\n",
    "        x = self.fc1(x)\n",
    "        x = self.relu1(x)\n",
    "        x = self.hide(x)\n",
    "        x = self.hide(x)\n",
    "        x = self.relu2(x)\n",
    "        x = self.fc2(x)\n",
    "        return x\n",
    "\n",
    "# 创建模型实例\n",
    "model = SimpleModel()\n",
    "\n",
    "# 打印模型结构\n",
    "print(model)"
   ]
  },
  {
   "cell_type": "code",
   "execution_count": 16,
   "metadata": {},
   "outputs": [
    {
     "name": "stdout",
     "output_type": "stream",
     "text": [
      "tensor([[-0.0077]], grad_fn=<AddmmBackward0>)\n"
     ]
    }
   ],
   "source": [
    "# 创建一个随机输入张量\n",
    "input_tensor = torch.randn(1, 10)\n",
    "\n",
    "# 运行模型\n",
    "output = model(input_tensor)\n",
    "\n",
    "# 打印输出\n",
    "print(output)\n"
   ]
  }
 ],
 "metadata": {
  "kernelspec": {
   "display_name": "gmzhang_LION",
   "language": "python",
   "name": "python3"
  },
  "language_info": {
   "codemirror_mode": {
    "name": "ipython",
    "version": 3
   },
   "file_extension": ".py",
   "mimetype": "text/x-python",
   "name": "python",
   "nbconvert_exporter": "python",
   "pygments_lexer": "ipython3",
   "version": "3.8.20"
  }
 },
 "nbformat": 4,
 "nbformat_minor": 2
}
